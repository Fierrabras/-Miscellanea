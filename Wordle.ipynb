{
 "cells": [
  {
   "cell_type": "markdown",
   "metadata": {},
   "source": [
    "## Wordle\n",
    "\n",
    "Small piece of code which intends to replicate the game Wordle (https://www.powerlanguage.co.uk/wordle/) in Python.\n",
    "\n",
    "To improve:\n",
    "1. Port to script to run on the command line.\n",
    "2. Randomize the choice of the target word from some (online) dictionary.\n",
    "3. Make sure that the user input is a valid word (again, check with dictionary).\n",
    "4. Add a menu to set the difficulty (number of letters and attempts)."
   ]
  },
  {
   "cell_type": "code",
   "execution_count": 1,
   "metadata": {},
   "outputs": [],
   "source": [
    "def initialize():\n",
    "    wrd = \"Earth\"      # Here, word set manually. Need to pick random word from dictionary.\n",
    "    wrd = wrd.upper()  # When run on the command line, the target word should not be shown to the player.\n",
    "    return wrd"
   ]
  },
  {
   "cell_type": "code",
   "execution_count": 2,
   "metadata": {},
   "outputs": [],
   "source": [
    "def get_input(wrd):\n",
    "    \"\"\"Gets input from user\"\"\"\n",
    "    usr_in = \"\"\n",
    "    while(len(usr_in) != len(wrd)):\n",
    "        usr_in = input(\"Please enter anything: \")\n",
    "    return usr_in\n",
    "#def get_input(wrd):\n",
    "#    \"\"\"Gets input from user\"\"\"\n",
    "#    usr_in = \"\"\n",
    "#    len_flag = \"Wrong\"\n",
    "#    while(len_flag == \"Wrong\"):\n",
    "#        try:\n",
    "#            usr_in = input(\"Please enter anything: \")\n",
    "#            if len(usr_in) == len(wrd):\n",
    "#                len_flag == \"Correct\"\n",
    "#            elif usr_in == \"Stop\":\n",
    "#                raise KeyboardInterrupt\n",
    "#            else:\n",
    "#                len_flag == \"Wrong\"\n",
    "#        except KeyboardInterrupt:\n",
    "#            print(\"You have stopped the game.\")\n",
    "#    return usr_in"
   ]
  },
  {
   "cell_type": "code",
   "execution_count": 3,
   "metadata": {},
   "outputs": [],
   "source": [
    "def guessing(wrd, usr):\n",
    "    \"\"\"Checks the similarity between the target word and\n",
    "    the user input\"\"\"\n",
    "    usr = usr.upper()\n",
    "    output = \"\"\n",
    "    if usr == wrd:\n",
    "        fl = \"Stop\"\n",
    "        output = '\\x1b[6;30;42m' + usr + '\\x1b[0m'\n",
    "    else:    \n",
    "        for idx in range(len(wrd)):\n",
    "            if usr[idx] == wrd[idx]:\n",
    "                output += '\\x1b[6;30;42m' + usr[idx] + '\\x1b[0m'\n",
    "            else:\n",
    "                if usr[idx] in wrd:\n",
    "                    output += '\\x1b[6;30;43m' + usr[idx] + '\\x1b[0m'\n",
    "                else:\n",
    "                    output += '\\x1b[6;30;47m' + '_' + '\\x1b[0m'\n",
    "        fl = \"Continue\"        \n",
    "    return output, fl "
   ]
  },
  {
   "cell_type": "code",
   "execution_count": 4,
   "metadata": {},
   "outputs": [],
   "source": [
    "def game():\n",
    "    tries = 0\n",
    "    flag = \"Continue\"\n",
    "    word = initialize()\n",
    "    while (tries in range(6) and flag == \"Continue\"):\n",
    "        usr_input = get_input(word)\n",
    "        out, flag = guessing(word, usr_input)\n",
    "        print(out)\n",
    "        tries += 1\n",
    "    return None    "
   ]
  },
  {
   "cell_type": "code",
   "execution_count": 5,
   "metadata": {},
   "outputs": [
    {
     "name": "stdout",
     "output_type": "stream",
     "text": [
      "Please enter anything: Mouse\n",
      "\u001b[6;30;47m_\u001b[0m\u001b[6;30;47m_\u001b[0m\u001b[6;30;47m_\u001b[0m\u001b[6;30;47m_\u001b[0m\u001b[6;30;43mE\u001b[0m\n",
      "Please enter anything: Teams\n",
      "\u001b[6;30;43mT\u001b[0m\u001b[6;30;43mE\u001b[0m\u001b[6;30;43mA\u001b[0m\u001b[6;30;47m_\u001b[0m\u001b[6;30;47m_\u001b[0m\n",
      "Please enter anything: Moose\n",
      "\u001b[6;30;47m_\u001b[0m\u001b[6;30;47m_\u001b[0m\u001b[6;30;47m_\u001b[0m\u001b[6;30;47m_\u001b[0m\u001b[6;30;43mE\u001b[0m\n",
      "Please enter anything: Amber\n",
      "\u001b[6;30;43mA\u001b[0m\u001b[6;30;47m_\u001b[0m\u001b[6;30;47m_\u001b[0m\u001b[6;30;43mE\u001b[0m\u001b[6;30;43mR\u001b[0m\n",
      "Please enter anything: Earth\n",
      "\u001b[6;30;42mEARTH\u001b[0m\n"
     ]
    }
   ],
   "source": [
    "try:\n",
    "    game()\n",
    "except KeyboardInterrupt:                               # still have to work this out\n",
    "    print('Hello user you have pressed ctrl-c button.')     "
   ]
  },
  {
   "cell_type": "code",
   "execution_count": null,
   "metadata": {},
   "outputs": [],
   "source": []
  },
  {
   "cell_type": "code",
   "execution_count": null,
   "metadata": {},
   "outputs": [],
   "source": []
  },
  {
   "cell_type": "code",
   "execution_count": null,
   "metadata": {},
   "outputs": [],
   "source": []
  },
  {
   "cell_type": "code",
   "execution_count": null,
   "metadata": {},
   "outputs": [],
   "source": []
  },
  {
   "cell_type": "code",
   "execution_count": null,
   "metadata": {},
   "outputs": [],
   "source": []
  },
  {
   "cell_type": "code",
   "execution_count": null,
   "metadata": {},
   "outputs": [],
   "source": []
  }
 ],
 "metadata": {
  "kernelspec": {
   "display_name": "Python 3",
   "language": "python",
   "name": "python3"
  },
  "language_info": {
   "codemirror_mode": {
    "name": "ipython",
    "version": 3
   },
   "file_extension": ".py",
   "mimetype": "text/x-python",
   "name": "python",
   "nbconvert_exporter": "python",
   "pygments_lexer": "ipython3",
   "version": "3.6.5"
  }
 },
 "nbformat": 4,
 "nbformat_minor": 2
}
